{
 "cells": [
  {
   "cell_type": "markdown",
   "metadata": {},
   "source": [
    "### Data collection ###"
   ]
  },
  {
   "cell_type": "code",
   "execution_count": 5,
   "metadata": {},
   "outputs": [],
   "source": [
    "import arxiv\n",
    "import pandas as pd\n",
    "from tqdm import tqdm"
   ]
  },
  {
   "cell_type": "code",
   "execution_count": 18,
   "metadata": {},
   "outputs": [],
   "source": [
    "keywords = [f'\\\"{word}\\\"' for word in \"\"\"\n",
    "science\n",
    "technology\n",
    "biology\n",
    "computer science\n",
    "medicine\n",
    "machine learning\n",
    "equation\n",
    "deep learning\n",
    "distribution\n",
    "learning\n",
    "generation\n",
    "model\n",
    "image\n",
    "graph\n",
    "estimation\n",
    "tree\n",
    "molecule\n",
    "quantum\n",
    "genetic\n",
    "computing\n",
    "dna\n",
    "engineering\n",
    "data\n",
    "study\n",
    "advanced\n",
    "astronomy\n",
    "astrophysics\n",
    "atom\n",
    "beaker\n",
    "biochemistry\n",
    "chemistry\n",
    "botany\n",
    "cell\n",
    "chemical\n",
    "climate\n",
    "control\n",
    "electricity\n",
    "element\n",
    "energy\n",
    "evolution\n",
    "fossil\n",
    "geology\n",
    "geophysics\n",
    "gravity\n",
    "hypothesis\n",
    "immunology\n",
    "magnet\n",
    "matter\n",
    "meteorology\n",
    "motion\n",
    "organism\n",
    "observe\n",
    "phase\n",
    "particle\n",
    "physics\n",
    "quantum mechanics\n",
    "research\n",
    "radiology\n",
    "temperature\n",
    "theory\n",
    "tissue\n",
    "variable\n",
    "variational\n",
    "volume\n",
    "weather\n",
    "zoology\n",
    "\"\"\".split('\\n')][1:-1]"
   ]
  },
  {
   "cell_type": "code",
   "execution_count": 25,
   "metadata": {},
   "outputs": [],
   "source": [
    "client = arxiv.Client(num_retries=20, page_size=500)\n",
    "\n",
    "def query_with_keywords(query):\n",
    "    search = arxiv.Search(\n",
    "    query=query,\n",
    "    max_results=30000\n",
    "    )\n",
    "    \n",
    "    published = []\n",
    "    titles = []\n",
    "    abstracts = []\n",
    "    journals = []\n",
    "    dois = []\n",
    "    \n",
    "    already_found = set()\n",
    "    \n",
    "    for res in tqdm(client.results(search), desc=query):\n",
    "        authors = ' '.join([a.name for a in res.authors])\n",
    "        if (res.published.year >= 2013 and\n",
    "            res.published.year <= 2019 and\n",
    "            res.journal_ref is not None and\n",
    "            (res.title, authors) not in already_found):\n",
    "                already_found.add((res.title, authors))\n",
    "                published.append(res.published)\n",
    "                titles.append(res.title)\n",
    "                abstracts.append(res.summary)\n",
    "                journals.append(res.journal_ref)\n",
    "                dois.append(res.doi)\n",
    "\n",
    "    return published, titles, abstracts, journals, dois\n"
   ]
  },
  {
   "cell_type": "code",
   "execution_count": 26,
   "metadata": {},
   "outputs": [
    {
     "name": "stderr",
     "output_type": "stream",
     "text": [
      "\"science\": 30000it [08:13, 60.81it/s]\n",
      "\"technology\": 30000it [08:41, 57.50it/s]\n",
      "\"biology\": 9819it [02:39, 61.70it/s]\n",
      "\"computer science\": 30000it [09:10, 54.51it/s]\n",
      "\"medicine\": 3579it [00:58, 61.59it/s]\n",
      "\"machine learning\": 30000it [09:55, 50.37it/s]\n",
      "\"equation\": 30000it [08:17, 60.25it/s]\n",
      "\"deep learning\": 30000it [09:25, 53.04it/s]\n",
      "\"distribution\": 30000it [08:50, 56.50it/s]\n",
      "\"learning\": 30000it [08:36, 58.08it/s]\n",
      "\"generation\": 30000it [09:55, 50.34it/s]\n",
      "\"model\": 30000it [11:13, 44.54it/s]\n",
      "\"image\": 30000it [08:49, 56.67it/s]\n",
      "\"graph\": 30000it [09:16, 53.94it/s]\n",
      "\"estimation\": 30000it [09:57, 50.22it/s]\n",
      "\"tree\": 30000it [09:02, 55.28it/s]\n",
      "\"molecule\": 28685it [08:27, 56.51it/s]\n",
      "\"quantum\": 30000it [08:55, 56.00it/s]\n",
      "\"genetic\": 8139it [02:09, 62.97it/s]\n",
      "\"computing\": 30000it [10:22, 48.21it/s]\n",
      "\"dna\": 5122it [01:20, 63.27it/s]\n",
      "\"engineering\": 30000it [09:12, 54.32it/s]\n",
      "\"data\": 30000it [10:12, 49.00it/s]\n",
      "\"study\": 30000it [09:27, 52.83it/s]\n",
      "\"advanced\": 30000it [08:39, 57.71it/s]\n",
      "\"astronomy\": 30000it [09:20, 53.48it/s]\n",
      "\"astrophysics\": 30000it [09:22, 53.29it/s]\n",
      "\"atom\": 30000it [08:37, 57.99it/s]\n",
      "\"beaker\": 20it [00:03,  5.69it/s]\n",
      "\"biochemistry\": 372it [00:06, 56.61it/s]\n",
      "\"chemistry\": 10779it [02:55, 61.38it/s]\n",
      "\"botany\": 25it [00:03,  7.06it/s]\n",
      "\"cell\": 30000it [08:52, 56.39it/s]\n",
      "\"chemical\": 30000it [08:16, 60.48it/s]\n",
      "\"climate\": 4471it [01:11, 62.81it/s]\n",
      "\"control\": 30000it [08:49, 56.70it/s]\n",
      "\"electricity\": 30000it [08:03, 62.01it/s]\n",
      "\"element\": 30000it [07:59, 62.50it/s]\n",
      "\"energy\": 30000it [09:22, 53.35it/s]\n",
      "\"evolution\": 30000it [09:17, 53.80it/s]\n",
      "\"fossil\": 1351it [00:23, 58.00it/s]\n",
      "\"geology\": 311it [00:06, 47.88it/s]\n",
      "\"geophysics\": 7748it [02:03, 62.97it/s]\n",
      "\"gravity\": 30000it [08:31, 58.70it/s]\n",
      "\"hypothesis\": 23979it [07:08, 55.98it/s]\n",
      "\"immunology\": 208it [00:05, 39.19it/s]\n",
      "\"magnet\": 30000it [08:39, 57.70it/s]\n",
      "\"matter\": 30000it [08:30, 58.73it/s]\n",
      "\"meteorology\": 1145it [00:19, 57.87it/s]\n",
      "\"motion\": 30000it [09:15, 54.02it/s]\n",
      "\"organism\": 30000it [08:15, 60.57it/s]\n",
      "\"observe\": 30000it [09:00, 55.52it/s]\n",
      "\"phase\": 30000it [08:52, 56.38it/s]\n",
      "\"particle\": 30000it [08:34, 58.31it/s]\n",
      "\"physics\": 30000it [10:20, 48.36it/s]\n",
      "\"quantum mechanics\": 24190it [07:29, 53.80it/s]\n",
      "\"research\": 30000it [08:28, 58.95it/s]\n",
      "\"radiology\": 775it [00:14, 53.33it/s]\n",
      "\"temperature\": 30000it [08:56, 55.87it/s]\n",
      "\"theory\": 30000it [10:54, 45.83it/s]\n",
      "\"tissue\": 6779it [01:51, 60.92it/s]\n",
      "\"variable\": 30000it [10:08, 49.29it/s]\n",
      "\"variational\": 30000it [09:27, 52.89it/s]\n",
      "\"volume\": 30000it [09:02, 55.33it/s]\n",
      "\"weather\": 4242it [01:14, 56.90it/s]\n",
      "\"zoology\": 54it [00:03, 13.92it/s]\n"
     ]
    },
    {
     "name": "stdout",
     "output_type": "stream",
     "text": [
      "187538\n"
     ]
    }
   ],
   "source": [
    "all_published = []\n",
    "all_titles = []\n",
    "all_abstracts = []\n",
    "all_journals = []\n",
    "all_dois = []\n",
    "\n",
    "for query in keywords:\n",
    "    published, titles, abstracts, journals, dois = query_with_keywords(query)\n",
    "    all_published.extend(published)\n",
    "    all_titles.extend(titles)\n",
    "    all_abstracts.extend(abstracts)\n",
    "    all_journals.extend(journals)\n",
    "    all_dois.extend(dois)"
   ]
  },
  {
   "cell_type": "code",
   "execution_count": 179,
   "metadata": {},
   "outputs": [],
   "source": [
    "data = pd.DataFrame({\n",
    "    'title': all_titles,\n",
    "    'published': all_published,\n",
    "    'abstract': all_abstracts,\n",
    "    'journal': all_journals,\n",
    "    'doi': all_dois\n",
    "})\n",
    "\n",
    "data.to_csv('../dataset/arxiv_data_top_30000.csv', index=False)"
   ]
  },
  {
   "cell_type": "code",
   "execution_count": 25,
   "metadata": {},
   "outputs": [],
   "source": [
    "data = pd.read_csv('../dataset/arxiv_data_top_30000.csv')"
   ]
  },
  {
   "cell_type": "code",
   "execution_count": 26,
   "metadata": {},
   "outputs": [
    {
     "data": {
      "text/html": [
       "<div>\n",
       "<style scoped>\n",
       "    .dataframe tbody tr th:only-of-type {\n",
       "        vertical-align: middle;\n",
       "    }\n",
       "\n",
       "    .dataframe tbody tr th {\n",
       "        vertical-align: top;\n",
       "    }\n",
       "\n",
       "    .dataframe thead th {\n",
       "        text-align: right;\n",
       "    }\n",
       "</style>\n",
       "<table border=\"1\" class=\"dataframe\">\n",
       "  <thead>\n",
       "    <tr style=\"text-align: right;\">\n",
       "      <th></th>\n",
       "      <th>title</th>\n",
       "      <th>published</th>\n",
       "      <th>abstract</th>\n",
       "      <th>journal</th>\n",
       "      <th>doi</th>\n",
       "    </tr>\n",
       "  </thead>\n",
       "  <tbody>\n",
       "    <tr>\n",
       "      <th>0</th>\n",
       "      <td>Report on a Boston University Conference Decem...</td>\n",
       "      <td>2015-03-03 23:35:54+00:00</td>\n",
       "      <td>This is an editorial report on the outcomes of...</td>\n",
       "      <td>Science &amp; Education, September 2014, 23(9): 18...</td>\n",
       "      <td>10.1007/s11191-014-9716-8</td>\n",
       "    </tr>\n",
       "    <tr>\n",
       "      <th>1</th>\n",
       "      <td>The Science of al-Biruni</td>\n",
       "      <td>2013-12-22 07:55:13+00:00</td>\n",
       "      <td>Al-Biruni (973-1048) was one of the greatest s...</td>\n",
       "      <td>International Journal of Sciences 2(12), 52-60...</td>\n",
       "      <td>10.18483/ijSci.364</td>\n",
       "    </tr>\n",
       "    <tr>\n",
       "      <th>2</th>\n",
       "      <td>Embracing Data Science</td>\n",
       "      <td>2016-07-04 12:40:15+00:00</td>\n",
       "      <td>Statistics is running the risk of appearing ir...</td>\n",
       "      <td>The UMAP Journal 36 (2015) 285-292</td>\n",
       "      <td>NaN</td>\n",
       "    </tr>\n",
       "    <tr>\n",
       "      <th>3</th>\n",
       "      <td>A New Task for the Philosophy of Science</td>\n",
       "      <td>2019-12-09 22:03:37+00:00</td>\n",
       "      <td>This paper argues that philosophers of science...</td>\n",
       "      <td>Metaphilosophy Vol. 50, No. 3, April 2019, pp....</td>\n",
       "      <td>NaN</td>\n",
       "    </tr>\n",
       "    <tr>\n",
       "      <th>4</th>\n",
       "      <td>Science and Philosophy: A Love-Hate Relationship</td>\n",
       "      <td>2013-07-04 09:02:00+00:00</td>\n",
       "      <td>In this paper I review the problematic relatio...</td>\n",
       "      <td>Foundations of Science, 25, 2000, pp. 297-314</td>\n",
       "      <td>10.1007/s10699-019-09619-2</td>\n",
       "    </tr>\n",
       "  </tbody>\n",
       "</table>\n",
       "</div>"
      ],
      "text/plain": [
       "                                               title  \\\n",
       "0  Report on a Boston University Conference Decem...   \n",
       "1                           The Science of al-Biruni   \n",
       "2                             Embracing Data Science   \n",
       "3           A New Task for the Philosophy of Science   \n",
       "4   Science and Philosophy: A Love-Hate Relationship   \n",
       "\n",
       "                   published  \\\n",
       "0  2015-03-03 23:35:54+00:00   \n",
       "1  2013-12-22 07:55:13+00:00   \n",
       "2  2016-07-04 12:40:15+00:00   \n",
       "3  2019-12-09 22:03:37+00:00   \n",
       "4  2013-07-04 09:02:00+00:00   \n",
       "\n",
       "                                            abstract  \\\n",
       "0  This is an editorial report on the outcomes of...   \n",
       "1  Al-Biruni (973-1048) was one of the greatest s...   \n",
       "2  Statistics is running the risk of appearing ir...   \n",
       "3  This paper argues that philosophers of science...   \n",
       "4  In this paper I review the problematic relatio...   \n",
       "\n",
       "                                             journal  \\\n",
       "0  Science & Education, September 2014, 23(9): 18...   \n",
       "1  International Journal of Sciences 2(12), 52-60...   \n",
       "2                 The UMAP Journal 36 (2015) 285-292   \n",
       "3  Metaphilosophy Vol. 50, No. 3, April 2019, pp....   \n",
       "4      Foundations of Science, 25, 2000, pp. 297-314   \n",
       "\n",
       "                          doi  \n",
       "0   10.1007/s11191-014-9716-8  \n",
       "1          10.18483/ijSci.364  \n",
       "2                         NaN  \n",
       "3                         NaN  \n",
       "4  10.1007/s10699-019-09619-2  "
      ]
     },
     "execution_count": 26,
     "metadata": {},
     "output_type": "execute_result"
    }
   ],
   "source": [
    "data.head()"
   ]
  },
  {
   "cell_type": "code",
   "execution_count": 6,
   "metadata": {},
   "outputs": [
    {
     "data": {
      "text/html": [
       "<div>\n",
       "<style scoped>\n",
       "    .dataframe tbody tr th:only-of-type {\n",
       "        vertical-align: middle;\n",
       "    }\n",
       "\n",
       "    .dataframe tbody tr th {\n",
       "        vertical-align: top;\n",
       "    }\n",
       "\n",
       "    .dataframe thead th {\n",
       "        text-align: right;\n",
       "    }\n",
       "</style>\n",
       "<table border=\"1\" class=\"dataframe\">\n",
       "  <thead>\n",
       "    <tr style=\"text-align: right;\">\n",
       "      <th></th>\n",
       "      <th>title</th>\n",
       "      <th>abstract</th>\n",
       "    </tr>\n",
       "  </thead>\n",
       "  <tbody>\n",
       "    <tr>\n",
       "      <th>0</th>\n",
       "      <td>Report on a Boston University Conference Decem...</td>\n",
       "      <td>This is an editorial report on the outcomes of...</td>\n",
       "    </tr>\n",
       "    <tr>\n",
       "      <th>1</th>\n",
       "      <td>The Science of al-Biruni</td>\n",
       "      <td>Al-Biruni (973-1048) was one of the greatest s...</td>\n",
       "    </tr>\n",
       "    <tr>\n",
       "      <th>2</th>\n",
       "      <td>Embracing Data Science</td>\n",
       "      <td>Statistics is running the risk of appearing ir...</td>\n",
       "    </tr>\n",
       "    <tr>\n",
       "      <th>3</th>\n",
       "      <td>A New Task for the Philosophy of Science</td>\n",
       "      <td>This paper argues that philosophers of science...</td>\n",
       "    </tr>\n",
       "    <tr>\n",
       "      <th>4</th>\n",
       "      <td>Science and Philosophy: A Love-Hate Relationship</td>\n",
       "      <td>In this paper I review the problematic relatio...</td>\n",
       "    </tr>\n",
       "  </tbody>\n",
       "</table>\n",
       "</div>"
      ],
      "text/plain": [
       "                                               title  \\\n",
       "0  Report on a Boston University Conference Decem...   \n",
       "1                           The Science of al-Biruni   \n",
       "2                             Embracing Data Science   \n",
       "3           A New Task for the Philosophy of Science   \n",
       "4   Science and Philosophy: A Love-Hate Relationship   \n",
       "\n",
       "                                            abstract  \n",
       "0  This is an editorial report on the outcomes of...  \n",
       "1  Al-Biruni (973-1048) was one of the greatest s...  \n",
       "2  Statistics is running the risk of appearing ir...  \n",
       "3  This paper argues that philosophers of science...  \n",
       "4  In this paper I review the problematic relatio...  "
      ]
     },
     "execution_count": 6,
     "metadata": {},
     "output_type": "execute_result"
    }
   ],
   "source": [
    "data_prefiltered = data[['title', 'abstract']]\n",
    "data_prefiltered.head()"
   ]
  },
  {
   "cell_type": "code",
   "execution_count": 4,
   "metadata": {},
   "outputs": [],
   "source": [
    "data_prefiltered.to_csv('../dataset/data.csv')\n",
    "#data_prefiltered = pd.read_csv('../dataset/data.csv')"
   ]
  },
  {
   "cell_type": "code",
   "execution_count": 5,
   "metadata": {},
   "outputs": [],
   "source": [
    "import nltk\n",
    "from nltk.tokenize import RegexpTokenizer"
   ]
  },
  {
   "cell_type": "code",
   "execution_count": 8,
   "metadata": {},
   "outputs": [],
   "source": [
    "# lowercase, remove punctuation\n",
    "def filter_text(row):\n",
    "    row = row.lower()\n",
    "    tokenizer = RegexpTokenizer(r'\\w+')\n",
    "    res = tokenizer.tokenize(row)\n",
    "    return \" \".join(res)\n",
    "\n",
    "data_filtered = data_filtered.copy()\n",
    "data_filtered['title'] = data_prefiltered.apply(lambda row: filter_text(row['title']), axis=1)\n",
    "data_filtered['abstract'] = data_prefiltered.apply(lambda row: filter_text(row['abstract']), axis=1)"
   ]
  },
  {
   "cell_type": "code",
   "execution_count": 9,
   "metadata": {},
   "outputs": [
    {
     "data": {
      "text/html": [
       "<div>\n",
       "<style scoped>\n",
       "    .dataframe tbody tr th:only-of-type {\n",
       "        vertical-align: middle;\n",
       "    }\n",
       "\n",
       "    .dataframe tbody tr th {\n",
       "        vertical-align: top;\n",
       "    }\n",
       "\n",
       "    .dataframe thead th {\n",
       "        text-align: right;\n",
       "    }\n",
       "</style>\n",
       "<table border=\"1\" class=\"dataframe\">\n",
       "  <thead>\n",
       "    <tr style=\"text-align: right;\">\n",
       "      <th></th>\n",
       "      <th>Unnamed: 0</th>\n",
       "      <th>title</th>\n",
       "      <th>abstract</th>\n",
       "    </tr>\n",
       "  </thead>\n",
       "  <tbody>\n",
       "    <tr>\n",
       "      <th>0</th>\n",
       "      <td>0</td>\n",
       "      <td>report on a boston university conference decem...</td>\n",
       "      <td>this is an editorial report on the outcomes of...</td>\n",
       "    </tr>\n",
       "    <tr>\n",
       "      <th>1</th>\n",
       "      <td>1</td>\n",
       "      <td>the science of al biruni</td>\n",
       "      <td>al biruni 973 1048 was one of the greatest sci...</td>\n",
       "    </tr>\n",
       "    <tr>\n",
       "      <th>2</th>\n",
       "      <td>2</td>\n",
       "      <td>embracing data science</td>\n",
       "      <td>statistics is running the risk of appearing ir...</td>\n",
       "    </tr>\n",
       "    <tr>\n",
       "      <th>3</th>\n",
       "      <td>3</td>\n",
       "      <td>a new task for the philosophy of science</td>\n",
       "      <td>this paper argues that philosophers of science...</td>\n",
       "    </tr>\n",
       "    <tr>\n",
       "      <th>4</th>\n",
       "      <td>4</td>\n",
       "      <td>science and philosophy a love hate relationship</td>\n",
       "      <td>in this paper i review the problematic relatio...</td>\n",
       "    </tr>\n",
       "  </tbody>\n",
       "</table>\n",
       "</div>"
      ],
      "text/plain": [
       "   Unnamed: 0                                              title  \\\n",
       "0           0  report on a boston university conference decem...   \n",
       "1           1                           the science of al biruni   \n",
       "2           2                             embracing data science   \n",
       "3           3           a new task for the philosophy of science   \n",
       "4           4    science and philosophy a love hate relationship   \n",
       "\n",
       "                                            abstract  \n",
       "0  this is an editorial report on the outcomes of...  \n",
       "1  al biruni 973 1048 was one of the greatest sci...  \n",
       "2  statistics is running the risk of appearing ir...  \n",
       "3  this paper argues that philosophers of science...  \n",
       "4  in this paper i review the problematic relatio...  "
      ]
     },
     "execution_count": 9,
     "metadata": {},
     "output_type": "execute_result"
    }
   ],
   "source": [
    "data_filtered.head()"
   ]
  },
  {
   "cell_type": "code",
   "execution_count": 10,
   "metadata": {},
   "outputs": [],
   "source": [
    "data_filtered.to_csv('../dataset/data_filtered.csv')"
   ]
  },
  {
   "cell_type": "code",
   "execution_count": 29,
   "metadata": {},
   "outputs": [],
   "source": [
    "from ArxivDataset import ArxivDataset\n",
    "dataset = ArxivDataset()\n",
    "dataset.from_file('../dataset/data_filtered.csv')"
   ]
  },
  {
   "cell_type": "code",
   "execution_count": 39,
   "metadata": {},
   "outputs": [],
   "source": [
    "title_lens = []\n",
    "abstract_lens = []\n",
    "max_title_len = 0\n",
    "max_abstract_len = 0\n",
    "for title, abstract in dataset.instances:\n",
    "    len_title = len(title)\n",
    "    len_abstract = len(abstract)\n",
    "    title_lens.append(len_title)\n",
    "    abstract_lens.append(len_abstract)\n",
    "    if len_title > max_title_len:\n",
    "        max_title_len = len_title\n",
    "    if len_abstract > max_abstract_len:\n",
    "        max_abstract_len = len_abstract"
   ]
  },
  {
   "cell_type": "code",
   "execution_count": 56,
   "metadata": {},
   "outputs": [],
   "source": [
    "import matplotlib.pyplot as plt\n",
    "import numpy as np"
   ]
  },
  {
   "cell_type": "code",
   "execution_count": 55,
   "metadata": {},
   "outputs": [
    {
     "name": "stdout",
     "output_type": "stream",
     "text": [
      "Max title len: 47\n",
      "Max abstract len: 619\n"
     ]
    },
    {
     "data": {
      "text/plain": [
       "[]"
      ]
     },
     "execution_count": 55,
     "metadata": {},
     "output_type": "execute_result"
    },
    {
     "data": {
      "image/png": "[encoded data removed]",
      "text/plain": [
       "<Figure size 1728x864 with 1 Axes>"
      ]
     },
     "metadata": {
      "needs_background": "light"
     },
     "output_type": "display_data"
    },
    {
     "data": {
      "image/png": "[encoded data removed]",
      "text/plain": [
       "<Figure size 1728x864 with 1 Axes>"
      ]
     },
     "metadata": {
      "needs_background": "light"
     },
     "output_type": "display_data"
    }
   ],
   "source": [
    "plt.rcParams.update({'font.size': 22})\n",
    "\n",
    "plt.figure(figsize=(24, 12))\n",
    "plt.hist(title_lens, bins=max_title_len)\n",
    "plt.ylabel('# of titles', fontsize=28)\n",
    "plt.xlabel('# of words', fontsize=28)\n",
    "plt.plot()\n",
    "\n",
    "plt.figure(figsize=(24, 12))\n",
    "plt.ylabel('# of abstracts', fontsize=28)\n",
    "plt.xlabel('# of words', fontsize=28)\n",
    "plt.hist(abstract_lens, bins=max_abstract_len)\n",
    "plt.plot()"
   ]
  },
  {
   "cell_type": "code",
   "execution_count": 64,
   "metadata": {},
   "outputs": [
    {
     "name": "stdout",
     "output_type": "stream",
     "text": [
      "Min title len: 1\n",
      "Max title len: 47\n",
      "Mean title len: 10.74488370356941\n",
      "Stddev title len: 4.100086118821517\n",
      "Median title len: 10.0\n",
      "\n",
      "Min abstract len: 1\n",
      "Max abstract len: 619\n",
      "Mean abstract len: 150.26933208203138\n",
      "Stddev abstract len: 64.23186043180522\n",
      "Median abstract len: 145.0\n"
     ]
    }
   ],
   "source": [
    "title_lens = np.array(title_lens)\n",
    "abstract_lens = np.array(abstract_lens)\n",
    "\n",
    "print(f'Min title len: {np.min(title_lens)}')\n",
    "print(f'Max title len: {np.max(title_lens)}')\n",
    "print(f'Mean title len: {np.mean(title_lens)}')\n",
    "print(f'Stddev title len: {np.sqrt(np.var(title_lens))}')\n",
    "print(f'Median title len: {np.median(title_lens)}')\n",
    "\n",
    "print()\n",
    "\n",
    "print(f'Min abstract len: {np.min(abstract_lens)}')\n",
    "print(f'Max abstract len: {np.max(abstract_lens)}')\n",
    "print(f'Mean abstract len: {np.mean(abstract_lens)}')\n",
    "print(f'Stddev abstract len: {np.sqrt(np.var(abstract_lens))}')\n",
    "print(f'Median abstract len: {np.median(abstract_lens)}')"
   ]
  },
  {
   "cell_type": "code",
   "execution_count": null,
   "metadata": {},
   "outputs": [],
   "source": []
  }
 ],
 "metadata": {
  "kernelspec": {
   "display_name": "Python 3 (ipykernel)",
   "language": "python",
   "name": "python3"
  },
  "language_info": {
   "codemirror_mode": {
    "name": "ipython",
    "version": 3
   },
   "file_extension": ".py",
   "mimetype": "text/x-python",
   "name": "python",
   "nbconvert_exporter": "python",
   "pygments_lexer": "ipython3",
   "version": "3.10.8"
  }
 },
 "nbformat": 4,
 "nbformat_minor": 2
}
